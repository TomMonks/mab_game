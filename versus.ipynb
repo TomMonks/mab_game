{
 "cells": [
  {
   "cell_type": "markdown",
   "metadata": {},
   "source": [
    "# Humans versus agents ... on slot machines\n",
    "\n",
    "## HSMA Reinforcement Learning basics\n",
    "\n",
    "**Casino Slot Machine Game details:**\n",
    "\n",
    "* There are five slot machines to play\n",
    "* A slot machine either pays out (score=1) or not (score=0) \n",
    "* A volunteer has a **budget of 30 rounds** to maximise their winnings.\n",
    "* They then play a simple Reinforcement Learning Agent.\n",
    "* Whoever gets the most points wins!\n",
    "\n",
    "<img src='./im/bandit.png' width=\"300\" height=\"300\">\n"
   ]
  },
  {
   "cell_type": "markdown",
   "metadata": {},
   "source": [
    "## Imports"
   ]
  },
  {
   "cell_type": "code",
   "execution_count": null,
   "metadata": {},
   "outputs": [],
   "source": [
    "from slot_machine_game import human_game\n",
    "from relearn.bandit_world import opponents"
   ]
  },
  {
   "cell_type": "markdown",
   "metadata": {},
   "source": [
    "---\n",
    "\n",
    "## 1. Choose an opponent"
   ]
  },
  {
   "cell_type": "markdown",
   "metadata": {},
   "source": [
    "1. **$\\epsilon$ - The agent formerly known as epsilon**\n",
    "\n",
    "    * Generally a greedy individual with wandering attention.\n",
    "    \n",
    "\n",
    "2. **The master of uncertainty**\n",
    "\n",
    "    * Seeks out uncertainty and crushes it beneath its mighty heel!\n",
    "    \n",
    "\n",
    "3. **The Reverend Thompson**\n",
    "\n",
    "    * Fear the reverend!\n",
    "\n",
    "---"
   ]
  },
  {
   "cell_type": "markdown",
   "metadata": {},
   "source": [
    "## 2. Gamble!\n",
    "\n",
    "Our agents can act a bit daft; and are especially disadvantaged early on in training...  \n",
    "\n",
    "**How brave are you? Do you dare give the agent a bit more budget?**\n",
    "\n",
    "* Budget += 0: Prize = chocolate bar.\n",
    "* Budget += 4: Prize = box of chocolates.\n",
    "* Budget += 6: Prize = chocolate cake.\n",
    "\n",
    "---"
   ]
  },
  {
   "cell_type": "code",
   "execution_count": null,
   "metadata": {},
   "outputs": [],
   "source": [
    "extra_budget = 4\n",
    "chosen_budget = 30 + extra_budget"
   ]
  },
  {
   "cell_type": "markdown",
   "metadata": {},
   "source": [
    "## 3. You play first!"
   ]
  },
  {
   "cell_type": "code",
   "execution_count": null,
   "metadata": {},
   "outputs": [],
   "source": [
    "try:\n",
    "    human_game()\n",
    "except:\n",
    "    print(\"Well done. Game over\")"
   ]
  },
  {
   "cell_type": "markdown",
   "metadata": {},
   "source": [
    "## 4. Opponent plays!"
   ]
  },
  {
   "cell_type": "code",
   "execution_count": null,
   "metadata": {},
   "outputs": [],
   "source": [
    "opponents.the_agent(budget=chosen_budget)"
   ]
  },
  {
   "cell_type": "markdown",
   "metadata": {},
   "source": [
    "# End"
   ]
  }
 ],
 "metadata": {
  "kernelspec": {
   "display_name": "Python 3",
   "language": "python",
   "name": "python3"
  },
  "language_info": {
   "codemirror_mode": {
    "name": "ipython",
    "version": 3
   },
   "file_extension": ".py",
   "mimetype": "text/x-python",
   "name": "python",
   "nbconvert_exporter": "python",
   "pygments_lexer": "ipython3",
   "version": "3.7.3"
  }
 },
 "nbformat": 4,
 "nbformat_minor": 4
}
